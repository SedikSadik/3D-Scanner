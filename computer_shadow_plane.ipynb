{
 "cells": [
  {
   "cell_type": "code",
   "execution_count": null,
   "metadata": {},
   "outputs": [],
   "source": [
    "# Import required libraries here\n",
    "import cv2                               # OpenCV\n",
    "import numpy as np                       # numpy\n",
    "import os\n",
    "from pupil_apriltags import Detector\n",
    "import requests\n",
    "import pickle\n",
    "import glob   # filename and path management for file I/O\n",
    "\n",
    "# Use this line to make matplotlib plot inline (only need to call it once when importing matplotlib)\n",
    "%matplotlib inline\n",
    "\n",
    "import matplotlib.pyplot as plt\n",
    "# Modify this line to adjust the displayed plot size. You can also call\n",
    "# it with different parameters or use plt.figure(figsize=[H, W]) before specific plots.\n",
    "plt.rcParams['figure.figsize'] = [7,5]"
   ]
  },
  {
   "cell_type": "code",
   "execution_count": null,
   "metadata": {},
   "outputs": [],
   "source": [
    "# Convert from Nx2 inhomogeneous to Nx3 homogeneous coordinates\n",
    "def in2hom(X):\n",
    "    return np.concatenate([X, np.ones((X.shape[0], 1), dtype=np.float32)], axis=1)\n",
    "\n",
    "# Convert from Nx3 homogeneous to Nx2 inhomogeneous coordinates\n",
    "def hom2in(X):\n",
    "    return X[:, :2] / X[:, 2:]"
   ]
  },
  {
   "cell_type": "code",
   "execution_count": null,
   "metadata": {},
   "outputs": [],
   "source": []
  }
 ],
 "metadata": {
  "language_info": {
   "name": "python"
  }
 },
 "nbformat": 4,
 "nbformat_minor": 2
}
